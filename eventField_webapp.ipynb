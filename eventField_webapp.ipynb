{
 "cells": [
  {
   "cell_type": "code",
   "execution_count": 37,
   "metadata": {
    "pycharm": {
     "name": "#%%\n"
    }
   },
   "outputs": [],
   "source": [
    "import ipywidgets as widgets\n",
    "from IPython.display import display\n",
    "import functions as functions\n",
    "import importlib\n",
    "import warnings\n",
    "import pathlib\n",
    "import pandas as pd\n",
    "import dropbox\n",
    "from dropbox.exceptions import AuthError\n",
    "import os\n",
    "warnings.filterwarnings('ignore')\n"
   ]
  },
  {
   "attachments": {},
   "cell_type": "markdown",
   "metadata": {},
   "source": [
    "# Event Field\n",
    "## Automated Event File Generation\n",
    "### by Veering Analytics"
   ]
  },
  {
   "cell_type": "markdown",
   "metadata": {},
   "source": [
    "#### Please enter dropbox details and select files to upload to kernel"
   ]
  },
  {
   "cell_type": "code",
   "execution_count": 38,
   "metadata": {},
   "outputs": [
    {
     "data": {
      "application/vnd.jupyter.widget-view+json": {
       "model_id": "565b2a68223a4f0a9265bbc6a023e698",
       "version_major": 2,
       "version_minor": 0
      },
      "text/plain": [
       "Text(value='', description='Dropbox Access Token')"
      ]
     },
     "metadata": {},
     "output_type": "display_data"
    }
   ],
   "source": [
    "db_token_widget = widgets.Text(description='Dropbox Access Token')\n",
    "display(db_token_widget)"
   ]
  },
  {
   "cell_type": "code",
   "execution_count": 39,
   "metadata": {},
   "outputs": [],
   "source": [
    "\n",
    "def dropbox_connect(at):\n",
    "    \"\"\"Create a connection to Dropbox.\"\"\"\n",
    "\n",
    "    try:\n",
    "        dbx = dropbox.Dropbox(at)\n",
    "    except AuthError as e:\n",
    "        print('Error connecting to Dropbox with access token: ' + str(e))\n",
    "    return dbx\n",
    "\n",
    "def dropbox_list_files(path,at):\n",
    "    \"\"\"Return a Pandas dataframe of files in a given Dropbox folder path in the Apps directory.\n",
    "    \"\"\"\n",
    "\n",
    "    dbx = dropbox_connect(at)\n",
    "\n",
    "    try:\n",
    "        files = dbx.files_list_folder(path).entries\n",
    "        files_list = []\n",
    "        for file in files:\n",
    "            if isinstance(file, dropbox.files.FileMetadata):\n",
    "                metadata = {\n",
    "                    'name': file.name,\n",
    "                    'path_display': file.path_display,\n",
    "                    'client_modified': file.client_modified,\n",
    "                    'server_modified': file.server_modified\n",
    "                }\n",
    "                files_list.append(metadata)\n",
    "\n",
    "        df = pd.DataFrame.from_records(files_list)\n",
    "        return df.sort_values(by='server_modified', ascending=False)\n",
    "\n",
    "    except Exception as e:\n",
    "        print('Error getting list of files from Dropbox: ' + str(e))\n",
    "        \n",
    "\n",
    "\n",
    "\n",
    "def dropbox_download_file(dropbox_file_path, local_file_path,at):\n",
    "    \"\"\"Download a file from Dropbox to the local machine.\"\"\"\n",
    "\n",
    "    try:\n",
    "        dbx = dropbox_connect(at)\n",
    "\n",
    "        with open(local_file_path, 'wb') as f:\n",
    "            metadata, result = dbx.files_download(path=dropbox_file_path)\n",
    "            f.write(result.content)\n",
    "    except Exception as e:\n",
    "        print('Error downloading file from Dropbox: ' + str(e))\n",
    "\n"
   ]
  },
  {
   "cell_type": "code",
   "execution_count": 40,
   "metadata": {},
   "outputs": [],
   "source": [
    "def get_db_files(b=None):\n",
    "    \n",
    "    global at\n",
    "    at = db_token_widget.value\n",
    "    \n",
    "\n",
    "    path_log = '/eventField_test/logs'\n",
    "    path_config = '/eventField_test/configs'\n",
    "\n",
    "    log_files = dropbox_list_files(path_log,at)\n",
    "    config_files = dropbox_list_files(path_config,at)\n",
    "\n",
    "    dropbox_download_file(log_files.path_display[1], str(os.getcwd())+'/test.csv',at)"
   ]
  },
  {
   "cell_type": "code",
   "execution_count": 41,
   "metadata": {},
   "outputs": [
    {
     "data": {
      "application/vnd.jupyter.widget-view+json": {
       "model_id": "39e15b097b1542c2a8afe7f3cefb41fc",
       "version_major": 2,
       "version_minor": 0
      },
      "text/plain": [
       "Button(description='Load DB Files', style=ButtonStyle())"
      ]
     },
     "metadata": {},
     "output_type": "display_data"
    }
   ],
   "source": [
    "db_button = widgets.Button(description='Load DB Files')\n",
    "db_button.on_click(get_db_files)\n",
    "display(db_button)"
   ]
  },
  {
   "cell_type": "code",
   "execution_count": 42,
   "metadata": {},
   "outputs": [],
   "source": [
    "def load2(b=None):\n",
    "    use_config = top_pane_dict['buttons'][0].value\n",
    "    log_path = top_pane_dict['file_choosers'][0].selected\n",
    "    config_path = top_pane_dict['file_choosers'][1].selected\n",
    "    \n",
    "    try:\n",
    "        log, var_dict, startDict, raceIndex, marksDict, raceEvents, eventLog, selector_dict_day = functions.load_and_process(log_path,config_path,use_config)\n",
    "        load2.log = log\n",
    "        load2.var_dict = var_dict\n",
    "        load2.startDict = startDict\n",
    "        load2.raceIndex = raceIndex\n",
    "        load2.marksDict = marksDict\n",
    "        load2.raceEvents = raceEvents\n",
    "        load2.eventLog = eventLog\n",
    "        load2.selector_dict_day = selector_dict_day\n",
    "        plots = functions.plot_race(startDict, raceEvents, log, marksDict, raceIndex) # create plots for each race\n",
    "        plot_tab = functions.build_plot_tabs(plots)\n",
    "        mid_pane = widgets.VBox([plot_tab,selector_dict_day['formatted']])\n",
    "        load2.mid_pane = mid_pane\n",
    "        \n",
    "    except:\n",
    "        load2.mid_pane = widgets.Label(\"Error Loading Files\")\n",
    "    \n",
    "\n"
   ]
  },
  {
   "cell_type": "markdown",
   "metadata": {},
   "source": [
    "####  Define log and config files"
   ]
  },
  {
   "cell_type": "code",
   "execution_count": 45,
   "metadata": {},
   "outputs": [
    {
     "data": {
      "application/vnd.jupyter.widget-view+json": {
       "model_id": "b1acf703e70844c58e487600c407f06a",
       "version_major": 2,
       "version_minor": 0
      },
      "text/plain": [
       "VBox(children=(HBox(children=(FileChooser(path='/home/veering/Documents/Git/eventField_webapp', filename='', t…"
      ]
     },
     "metadata": {},
     "output_type": "display_data"
    }
   ],
   "source": [
    "top_pane_dict = functions.build_top_pane()\n",
    "display(top_pane_dict['formatted'][0])"
   ]
  },
  {
   "cell_type": "code",
   "execution_count": 46,
   "metadata": {},
   "outputs": [
    {
     "data": {
      "application/vnd.jupyter.widget-view+json": {
       "model_id": "073933028a3442468cdf36162e47993b",
       "version_major": 2,
       "version_minor": 0
      },
      "text/plain": [
       "Button(description='Load and Process Files', style=ButtonStyle())"
      ]
     },
     "metadata": {},
     "output_type": "display_data"
    },
    {
     "data": {
      "application/vnd.jupyter.widget-view+json": {
       "model_id": "703d8220a07d45e791cb93b71bfcdfee",
       "version_major": 2,
       "version_minor": 0
      },
      "text/plain": [
       "Output()"
      ]
     },
     "metadata": {},
     "output_type": "display_data"
    }
   ],
   "source": [
    "load_button = widgets.Button(description='Load and Process Files')\n",
    "mid_pane_output = widgets.Output()\n",
    "\n",
    "    \n",
    "@mid_pane_output.capture()\n",
    "def load(change):\n",
    "    load2()\n",
    "    mid_pane_output.clear_output()\n",
    "    with mid_pane_output:\n",
    "        display(load2.mid_pane)\n",
    "    \n",
    "    \n",
    "load_button.on_click(load)\n",
    "display(load_button)\n",
    "mid_pane_output"
   ]
  },
  {
   "cell_type": "code",
   "execution_count": 47,
   "metadata": {},
   "outputs": [],
   "source": [
    "def dropbox_upload_file(local_path, local_file, dropbox_file_path,at):\n",
    "    \"\"\"Upload a file from the local machine to a path in the Dropbox app directory.\n",
    "\n",
    "    Args:\n",
    "        local_path (str): The path to the local file.\n",
    "        local_file (str): The name of the local file.\n",
    "        dropbox_file_path (str): The path to the file in the Dropbox app directory.\n",
    "\n",
    "    Example:\n",
    "        dropbox_upload_file('.', 'test.csv', '/stuff/test.csv')\n",
    "\n",
    "    Returns:\n",
    "        meta: The Dropbox file metadata.\n",
    "    \"\"\"\n",
    "\n",
    "    try:\n",
    "        dbx = dropbox_connect(at)\n",
    "\n",
    "        local_file_path = pathlib.Path(local_path) / local_file\n",
    "\n",
    "        with local_file_path.open(\"rb\") as f:\n",
    "            meta = dbx.files_upload(f.read(), dropbox_file_path, mode=dropbox.files.WriteMode(\"overwrite\"))\n",
    "\n",
    "            return meta\n",
    "    except Exception as e:\n",
    "        print('Error uploading file to Dropbox: ' + str(e))\n"
   ]
  },
  {
   "cell_type": "code",
   "execution_count": 55,
   "metadata": {
    "pycharm": {
     "name": "#%%\n"
    }
   },
   "outputs": [],
   "source": [
    "def export2(b=None):\n",
    "    try:\n",
    "        selector_dict_day = load2.selector_dict_day\n",
    "        raceEvents = load2.raceEvents \n",
    "        startDict = load2.startDict \n",
    "        log = load2.log\n",
    "        filePath_export = top_pane_dict['file_choosers'][0].selected_path\n",
    "        date_fileName = str(load2.log.TimeStamp.dropna()[1].date())\n",
    "        fileName_export = \"eventField_\"+date_fileName\n",
    "        events = functions.export_to_xml_worker(selector_dict_day, raceEvents, startDict, log, filePath_export, fileName_export)\n",
    "        export2.events = events\n",
    "        dropbox_upload_file(filePath_export, str(fileName_export)+'.xml', '/eventField_test/'+str(fileName_export)+'.xml',at)\n",
    "        \n",
    "        \n",
    "    \n",
    "    except:\n",
    "        print(\"Failed to export XML file\")\n"
   ]
  },
  {
   "cell_type": "code",
   "execution_count": 56,
   "metadata": {},
   "outputs": [
    {
     "data": {
      "application/vnd.jupyter.widget-view+json": {
       "model_id": "2dea26e6d60e4f9fa1a0b80c7f04a12b",
       "version_major": 2,
       "version_minor": 0
      },
      "text/plain": [
       "Button(description='Export Events as XML', style=ButtonStyle())"
      ]
     },
     "metadata": {},
     "output_type": "display_data"
    },
    {
     "name": "stdout",
     "output_type": "stream",
     "text": [
      "Event File exported as eventField_2022-05-20\n"
     ]
    }
   ],
   "source": [
    "export_button = widgets.Button(description='Export Events as XML')\n",
    "bottom_pane_output = widgets.Output()\n",
    "   \n",
    "export_button.on_click(export2)\n",
    "display(export_button)\n",
    "\n"
   ]
  }
 ],
 "metadata": {
  "kernelspec": {
   "display_name": "Python 3 (ipykernel)",
   "language": "python",
   "name": "python3"
  },
  "language_info": {
   "codemirror_mode": {
    "name": "ipython",
    "version": 3
   },
   "file_extension": ".py",
   "mimetype": "text/x-python",
   "name": "python",
   "nbconvert_exporter": "python",
   "pygments_lexer": "ipython3",
   "version": "3.10.9"
  }
 },
 "nbformat": 4,
 "nbformat_minor": 1
}
