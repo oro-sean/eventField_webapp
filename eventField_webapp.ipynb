{
 "cells": [
  {
   "cell_type": "code",
   "execution_count": null,
   "metadata": {
    "pycharm": {
     "name": "#%%\n"
    }
   },
   "outputs": [],
   "source": [
    "import ipywidgets as widgets\n",
    "from IPython.display import display\n",
    "import functions as functions\n",
    "import importlib\n"
   ]
  },
  {
   "cell_type": "code",
   "execution_count": null,
   "metadata": {},
   "outputs": [],
   "source": [
    "def load2(b=None):\n",
    "    use_config = top_pane_dict['buttons'][0].value\n",
    "    log_path = top_pane_dict['file_choosers'][0].selected\n",
    "    config_path = top_pane_dict['file_choosers'][1].selected\n",
    "\n",
    "    log, var_dict, startDict, raceIndex, marksDict, raceEvents, eventLog, selector_dict_day = functions.load_and_process(log_path,config_path,use_config)\n",
    "    load2.log = log\n",
    "    load2.var_dict = var_dict\n",
    "    load2.startDict = startDict\n",
    "    load2.raceIndex = raceIndex\n",
    "    load2.marksDict = marksDict\n",
    "    load2.raceEvents = raceEvents\n",
    "    load2.eventLog = eventLog\n",
    "    load2.selector_dict_day = selector_dict_day\n",
    "    plots = functions.plot_race(startDict, raceEvents, log, marksDict, raceIndex) # create plots for each race\n",
    "    \n",
    "    plot_tab = functions.build_plot_tabs(plots)\n",
    "    \n",
    "    mid_pane = widgets.VBox([plot_tab,selector_dict_day['formatted']])\n",
    "    display(mid_pane)"
   ]
  },
  {
   "cell_type": "code",
   "execution_count": null,
   "metadata": {},
   "outputs": [],
   "source": [
    "top_pane_dict = functions.build_top_pane()\n",
    "display(top_pane_dict['formatted'][0])"
   ]
  },
  {
   "cell_type": "code",
   "execution_count": null,
   "metadata": {},
   "outputs": [],
   "source": [
    "load_button = widgets.Button(description=\"Load Files\")\n",
    "@load_button.on_click\n",
    "def plot_on_click(b):\n",
    "    load2()\n",
    "display(load_button)"
   ]
  },
  {
   "cell_type": "code",
   "execution_count": null,
   "metadata": {
    "pycharm": {
     "name": "#%%\n"
    }
   },
   "outputs": [],
   "source": [
    "#filePath_export = top_pane_dict['file_choosers'][0].selected_path\n",
    "#fileName_export = \"test123.xml\"\n",
    "#functions.export_to_xml_worker(load2.selector_dict_day, load2.raceEvents, load2.startDict, load2.log, filePath_export, fileName_export)\n",
    "\n",
    "\n",
    "\n"
   ]
  },
  {
   "cell_type": "code",
   "execution_count": null,
   "metadata": {},
   "outputs": [],
   "source": []
  }
 ],
 "metadata": {
  "kernelspec": {
   "display_name": "Python 3 (ipykernel)",
   "language": "python",
   "name": "python3"
  },
  "language_info": {
   "codemirror_mode": {
    "name": "ipython",
    "version": 3
   },
   "file_extension": ".py",
   "mimetype": "text/x-python",
   "name": "python",
   "nbconvert_exporter": "python",
   "pygments_lexer": "ipython3",
   "version": "3.10.9"
  }
 },
 "nbformat": 4,
 "nbformat_minor": 1
}
