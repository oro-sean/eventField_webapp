{
 "cells": [
  {
   "cell_type": "code",
   "execution_count": 4,
   "metadata": {
    "pycharm": {
     "name": "#%%\n"
    }
   },
   "outputs": [],
   "source": [
    "import ipywidgets as widgets\n",
    "from IPython.display import display\n",
    "import functions\n",
    "import importlib\n"
   ]
  },
  {
   "cell_type": "code",
   "execution_count": 5,
   "metadata": {
    "pycharm": {
     "name": "#%%\n"
    }
   },
   "outputs": [],
   "source": [
    "def top_pane_handler():\n",
    "    top_pane_dict = functions.build_top_pane()\n",
    "    display(top_pane_dict['formatted'][0])\n",
    "\n",
    "    return top_pane_dict\n",
    "\n",
    "def mid_pane_handler(top_pane_dict, loaded):\n",
    "    if not loaded:\n",
    "        not_loaded = [widgets.Label('Please Load Files')]\n",
    "        mid_pane = widgets.Box(not_loaded)\n",
    "        selector_dict_day = []\n",
    "        raceEvents = []\n",
    "        startDict = []\n",
    "        log = []\n",
    "        \n",
    "    if loaded:\n",
    "        selector_dict_day, plot_tab, log, raceEvents, marksDict, startDict = functions.load_and_process_worker(top_pane_dict)\n",
    "        mid_pane = widgets.VBox([plot_tab,selector_dict_day['formatted']])\n",
    "        \n",
    "    display(mid_pane)\n",
    "\n",
    "    \n",
    "    return selector_dict_day, raceEvents, startDict, log"
   ]
  },
  {
   "cell_type": "code",
   "execution_count": 8,
   "metadata": {},
   "outputs": [],
   "source": [
    "top_pane_dict = functions.build_top_pane()\n",
    "display(top_pane_dict['formatted'][0])"
   ]
  },
  {
   "cell_type": "code",
   "execution_count": 6,
   "metadata": {
    "pycharm": {
     "name": "#%%\n"
    }
   },
   "outputs": [],
   "source": [
    "top_pane_dict = top_pane_handler()"
   ]
  },
  {
   "cell_type": "code",
   "execution_count": 12,
   "metadata": {
    "pycharm": {
     "name": "#%%\n"
    }
   },
   "outputs": [],
   "source": [
    "loaded=False"
   ]
  },
  {
   "cell_type": "code",
   "execution_count": 13,
   "metadata": {},
   "outputs": [
    {
     "data": {
      "application/vnd.jupyter.widget-view+json": {
       "model_id": "1aea910fd268419fa14c3c34919dea37",
       "version_major": 2,
       "version_minor": 0
      },
      "text/plain": [
       "Box(children=(Label(value='Please Load Files'),))"
      ]
     },
     "metadata": {},
     "output_type": "display_data"
    }
   ],
   "source": [
    "selector_dict_day, raceEvents, startDict, log = mid_pane_handler(top_pane_dict, loaded)"
   ]
  },
  {
   "cell_type": "code",
   "execution_count": 10,
   "metadata": {
    "pycharm": {
     "name": "#%%\n"
    }
   },
   "outputs": [],
   "source": [
    "#filePath_export=\"empty\"\n",
    "#fileName_export = \"test123\"\n",
    "#functions.export_to_xml_worker(selector_dict_day, raceEvents, startDict, log, filePath_export, fileName_export)\n",
    "\n",
    "\n",
    "\n"
   ]
  },
  {
   "cell_type": "code",
   "execution_count": null,
   "metadata": {},
   "outputs": [],
   "source": []
  }
 ],
 "metadata": {
  "kernelspec": {
   "display_name": "Python 3 (ipykernel)",
   "language": "python",
   "name": "python3"
  },
  "language_info": {
   "codemirror_mode": {
    "name": "ipython",
    "version": 3
   },
   "file_extension": ".py",
   "mimetype": "text/x-python",
   "name": "python",
   "nbconvert_exporter": "python",
   "pygments_lexer": "ipython3",
   "version": "3.10.9"
  }
 },
 "nbformat": 4,
 "nbformat_minor": 1
}
