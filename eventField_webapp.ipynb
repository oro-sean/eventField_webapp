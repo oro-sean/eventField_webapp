{
 "cells": [
  {
   "cell_type": "code",
   "execution_count": null,
   "metadata": {
    "pycharm": {
     "name": "#%%\n"
    }
   },
   "outputs": [],
   "source": [
    "import ipywidgets as widgets\n",
    "from IPython.display import display\n",
    "import functions as functions\n",
    "import importlib\n",
    "import warnings\n",
    "import pathlib\n",
    "import pandas as pd\n",
    "import dropbox\n",
    "from dropbox.exceptions import AuthError\n",
    "import os\n",
    "warnings.filterwarnings('ignore')\n"
   ]
  },
  {
   "cell_type": "markdown",
   "metadata": {},
   "source": [
    "# Event Field\n",
    "## Automated Event File Generation\n",
    "### by Veering Analytics"
   ]
  },
  {
   "cell_type": "markdown",
   "metadata": {},
   "source": [
    "#### Please enter dropbox details and select files to upload to kernel"
   ]
  },
  {
   "cell_type": "code",
   "execution_count": null,
   "metadata": {},
   "outputs": [],
   "source": [
    "token_widget = widgets.Textarea(description='DropBox API acess token')\n",
    "log_widget = widgets.Text(description='Path to logs folder')\n",
    "config_widget = widgets.Text(description='Path to configs folder')\n",
    "export_widget = widgets.Text(description='Path to export XML event file')\n",
    "db_top_pane = widgets.VBox([token_widget, log_widget, config_widget, export_widget])\n",
    "display(db_top_pane)"
   ]
  },
  {
   "cell_type": "code",
   "execution_count": null,
   "metadata": {},
   "outputs": [],
   "source": [
    "def dropbox_connect(at):\n",
    "    dropbox.Dropbox(at)\n",
    "\n",
    "def dropbox_list_files(connect, path):\n",
    "\n",
    "    dbx = connect\n",
    "\n",
    "  \n",
    "    files = dbx.files_list_folder(path).entries\n",
    "    files_list = []\n",
    "    for file in files:\n",
    "        if isinstance(file, dropbox.files.FileMetadata):\n",
    "            metadata = {\n",
    "                'name': file.name,\n",
    "                'path_display': file.path_display,\n",
    "                'client_modified': file.client_modified,\n",
    "                'server_modified': file.server_modified\n",
    "            }\n",
    "            files_list.append(metadata)\n",
    "\n",
    "    df = pd.DataFrame.from_records(files_list)\n",
    "    return df.sort_values(by='server_modified', ascending=False)\n",
    "\n",
    "\n",
    "class get_dropBox:\n",
    "    def __init__(self, token,logPath, configPath):\n",
    "        self.access_token = token\n",
    "        self.log_path = logPath\n",
    "        self.config_path = configPath\n",
    "        self.connect = dropbox.Dropbox(token)\n",
    "\n",
    "        \n",
    "    def dropbox_logs(self):\n",
    "        logs = dropbox_list_files(self.connect, self.log_path)\n",
    "        return logs\n",
    "    \n",
    "    def dropbox_configs(self):\n",
    "        configs = dropbox_list_files(self.connect, self.config_path)\n",
    "        return configs\n",
    "\n",
    "        \n",
    "class load_files_selector:\n",
    "    def __init__(self, logsList, configsList):\n",
    "        self.logs_list = logsList.name\n",
    "        self.configs_list = configsList.name\n",
    "        \n",
    "    def log_selector(self):\n",
    "        widget = widgets.SelectMultiple(\n",
    "        options=self.logs_list,\n",
    "        rows=10,\n",
    "        description='Logs',\n",
    "        disabled=False)\n",
    "        return widget\n",
    "    \n",
    "    def configs_selector(self):\n",
    "        widget = widgets.SelectMultiple(\n",
    "        options=self.configs_list,\n",
    "        rows=10,\n",
    "        description='Logs',\n",
    "        disabled=False)\n",
    "        return widget\n",
    "        \n",
    "\n",
    "def mid_pane_db():\n",
    "\n",
    "    dropBox_lists =  get_dropBox(token_widget.value, log_widget.value, config_widget.value)\n",
    "    file_selectors = load_files_selector(dropBox_lists.dropbox_logs(), dropBox_lists.dropbox_configs())\n",
    "    log_selector = file_selectors.log_selector()\n",
    "    config_selector = file_selectors.configs_selector()\n",
    "    pane = widgets.HBox([log_selector, config_selector])\n",
    "    mid_pane_db.selected_dict = {'logs': log_selector,\n",
    "                                'configs': config_selector}\n",
    "    mid_pane_db.pane = pane\n",
    "    mid_pane_db.dropBox_lists = dropBox_lists"
   ]
  },
  {
   "cell_type": "code",
   "execution_count": null,
   "metadata": {},
   "outputs": [],
   "source": [
    "db_button = widgets.Button(description='Load DB Files')\n",
    "db_output = widgets.Output()\n",
    "\n",
    "@db_output.capture()\n",
    "def dbload1(b=None):\n",
    "    mid_pane_db()\n",
    "    db_output.clear_output()\n",
    "    with db_output:\n",
    "        display(mid_pane_db.pane)\n",
    "    \n",
    "db_button.on_click(dbload1)\n",
    "display(db_button)\n",
    "db_output"
   ]
  },
  {
   "cell_type": "code",
   "execution_count": null,
   "metadata": {},
   "outputs": [],
   "source": [
    "class download_from_db:\n",
    "    def __init__(self,fileList, filePath, at):\n",
    "        self.file_list = fileList\n",
    "        self.file_path = filePath\n",
    "        self.access_token = at\n",
    "        \n",
    "    def dropbox_download_file(self):\n",
    "        dbx = dropbox.Dropbox(self.access_token)\n",
    "        \n",
    "        for file in self.file_list:\n",
    "            db_path = self.file_path+'/'+file\n",
    "            local_path = str(os.getcwd())+'/'+file\n",
    "            print(db_path)\n",
    "            print(local_path)\n",
    "            with open(local_path, 'wb') as f:\n",
    "                metadata, result = dbx.files_download(path=db_path)\n",
    "                f.write(result.content)\n",
    "def import_file_from_db(b=None):\n",
    "    load_logs = download_from_db(mid_pane_db.selected_dict['logs'].value,\n",
    "                            log_widget.value,\n",
    "                            token_widget.value)\n",
    "    load_configs = download_from_db(mid_pane_db.selected_dict['configs'].value,\n",
    "                            config_widget.value,\n",
    "                            token_widget.value)\n",
    "    load_logs.dropbox_download_file()\n",
    "    load_configs.dropbox_download_file()\n"
   ]
  },
  {
   "cell_type": "code",
   "execution_count": null,
   "metadata": {},
   "outputs": [],
   "source": [
    "import_button = widgets.Button(description='Import from Dropbox')\n",
    "import_output = widgets.Output()\n",
    "   \n",
    "import_button.on_click(import_file_from_db)\n",
    "display(import_button)"
   ]
  },
  {
   "cell_type": "code",
   "execution_count": null,
   "metadata": {},
   "outputs": [],
   "source": [
    "def load2(b=None):\n",
    "    use_config = top_pane_dict['buttons'][0].value\n",
    "    log_path = top_pane_dict['file_choosers'][0].selected\n",
    "    config_path = top_pane_dict['file_choosers'][1].selected\n",
    "    \n",
    "    try:\n",
    "        log, var_dict, startDict, raceIndex, marksDict, raceEvents, eventLog, selector_dict_day = functions.load_and_process(log_path,config_path,use_config)\n",
    "        load2.log = log\n",
    "        load2.var_dict = var_dict\n",
    "        load2.startDict = startDict\n",
    "        load2.raceIndex = raceIndex\n",
    "        load2.marksDict = marksDict\n",
    "        load2.raceEvents = raceEvents\n",
    "        load2.eventLog = eventLog\n",
    "        load2.selector_dict_day = selector_dict_day\n",
    "        plots = functions.plot_race(startDict, raceEvents, log, marksDict, raceIndex) # create plots for each race\n",
    "        plot_tab = functions.build_plot_tabs(plots)\n",
    "        mid_pane = widgets.VBox([plot_tab,selector_dict_day['formatted']])\n",
    "        load2.mid_pane = mid_pane\n",
    "        \n",
    "    except:\n",
    "        load2.mid_pane = widgets.Label(\"Error Loading Files\")\n",
    "    \n",
    "\n"
   ]
  },
  {
   "cell_type": "markdown",
   "metadata": {},
   "source": [
    "####  Select log and config files to process"
   ]
  },
  {
   "cell_type": "code",
   "execution_count": null,
   "metadata": {},
   "outputs": [],
   "source": [
    "top_pane_dict = functions.build_top_pane()\n",
    "display(top_pane_dict['formatted'][0])"
   ]
  },
  {
   "cell_type": "code",
   "execution_count": null,
   "metadata": {},
   "outputs": [],
   "source": [
    "load_button = widgets.Button(description='Load and Process Files')\n",
    "mid_pane_output = widgets.Output()\n",
    "\n",
    "    \n",
    "@mid_pane_output.capture()\n",
    "def load(change):\n",
    "    load2()\n",
    "    mid_pane_output.clear_output()\n",
    "    with mid_pane_output:\n",
    "        display(load2.mid_pane)\n",
    "    \n",
    "    \n",
    "load_button.on_click(load)\n",
    "display(load_button)\n",
    "mid_pane_output"
   ]
  },
  {
   "cell_type": "code",
   "execution_count": null,
   "metadata": {},
   "outputs": [],
   "source": [
    "def dropbox_upload_file(local_path, local_file, dropbox_file_path,at):\n",
    "    \"\"\"Upload a file from the local machine to a path in the Dropbox app directory.\n",
    "\n",
    "    Args:\n",
    "        local_path (str): The path to the local file.\n",
    "        local_file (str): The name of the local file.\n",
    "        dropbox_file_path (str): The path to the file in the Dropbox app directory.\n",
    "\n",
    "    Example:\n",
    "        dropbox_upload_file('.', 'test.csv', '/stuff/test.csv')\n",
    "\n",
    "    Returns:\n",
    "        meta: The Dropbox file metadata.\n",
    "    \"\"\"\n",
    "\n",
    "    try:\n",
    "        dbx = dropbox.Dropbox(at)\n",
    "\n",
    "        local_file_path = pathlib.Path(local_path) / local_file\n",
    "\n",
    "        with local_file_path.open(\"rb\") as f:\n",
    "            meta = dbx.files_upload(f.read(), dropbox_file_path, mode=dropbox.files.WriteMode(\"overwrite\"))\n",
    "\n",
    "            return meta\n",
    "    except Exception as e:\n",
    "        print('Error uploading file to Dropbox: ' + str(e))\n"
   ]
  },
  {
   "cell_type": "code",
   "execution_count": null,
   "metadata": {
    "pycharm": {
     "name": "#%%\n"
    }
   },
   "outputs": [],
   "source": [
    "def export2(b=None):\n",
    "    try:\n",
    "        selector_dict_day = load2.selector_dict_day\n",
    "        raceEvents = load2.raceEvents \n",
    "        startDict = load2.startDict \n",
    "        log = load2.log\n",
    "        filePath_export = top_pane_dict['file_choosers'][0].selected_path\n",
    "        date_fileName = str(load2.log.TimeStamp.dropna()[1].date())\n",
    "        fileName_export = \"eventField_\"+date_fileName\n",
    "        events = functions.export_to_xml_worker(selector_dict_day, raceEvents, startDict, log, filePath_export, fileName_export)\n",
    "        export2.events = events\n",
    "        \n",
    "    except:\n",
    "        print(\"Failed to export XML file\")\n",
    "        \n",
    "    try:\n",
    "        dropbox_upload_file(filePath_export, str(fileName_export)+'.xml', export_widget.value+'/'+str(fileName_export)+'.xml',token_widget.value)\n",
    "        print(\"event file uploaded to dropbox\")\n",
    "    \n",
    "    except:\n",
    "        print(\"failed to upload to DropBox\")\n"
   ]
  },
  {
   "cell_type": "code",
   "execution_count": null,
   "metadata": {},
   "outputs": [],
   "source": [
    "export_button = widgets.Button(description='Export Events as XML')\n",
    "bottom_pane_output = widgets.Output()\n",
    "   \n",
    "export_button.on_click(export2)\n",
    "display(export_button)\n",
    "\n"
   ]
  },
  {
   "cell_type": "code",
   "execution_count": null,
   "metadata": {},
   "outputs": [],
   "source": []
  }
 ],
 "metadata": {
  "kernelspec": {
   "display_name": "Python 3 (ipykernel)",
   "language": "python",
   "name": "python3"
  },
  "language_info": {
   "codemirror_mode": {
    "name": "ipython",
    "version": 3
   },
   "file_extension": ".py",
   "mimetype": "text/x-python",
   "name": "python",
   "nbconvert_exporter": "python",
   "pygments_lexer": "ipython3",
   "version": "3.10.9"
  }
 },
 "nbformat": 4,
 "nbformat_minor": 1
}
