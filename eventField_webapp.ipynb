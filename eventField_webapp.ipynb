{
 "cells": [
  {
   "cell_type": "code",
   "execution_count": 1,
   "metadata": {
    "pycharm": {
     "name": "#%%\n"
    }
   },
   "outputs": [],
   "source": [
    "import ipywidgets as widgets\n",
    "from IPython.display import display\n",
    "import functions as functions\n",
    "import importlib\n",
    "import warnings\n",
    "warnings.filterwarnings('ignore')\n"
   ]
  },
  {
   "cell_type": "code",
   "execution_count": null,
   "metadata": {},
   "outputs": [],
   "source": [
    "import pathlib\n",
    "import pandas as pd\n",
    "import dropbox\n",
    "from dropbox.exceptions import AuthError\n",
    "\n",
    "DROPBOX_ACCESS_TOKEN = 'sl.BY2dvISDQFg9YN0hmkxrCtup4s6Ntn1TJlFC0X7016uDt9ms30PXI00Y8ULwo0p054eG-QBYNNDliKG1v9Jq9M68FmgYm5N1-AugJtUYa6kL_-a3dHBq_bg_GNGlIWQe2FQuTqYW6_8h'\n",
    "\n",
    "path_log = '/eventField_test/logs'\n",
    "path_config = '/eventField_test/configs'\n",
    "\n",
    "def dropbox_connect():\n",
    "    \"\"\"Create a connection to Dropbox.\"\"\"\n",
    "\n",
    "    try:\n",
    "        dbx = dropbox.Dropbox(DROPBOX_ACCESS_TOKEN)\n",
    "    except AuthError as e:\n",
    "        print('Error connecting to Dropbox with access token: ' + str(e))\n",
    "    return dbx\n",
    "\n",
    "def dropbox_list_files(path):\n",
    "    \"\"\"Return a Pandas dataframe of files in a given Dropbox folder path in the Apps directory.\n",
    "    \"\"\"\n",
    "\n",
    "    dbx = dropbox_connect()\n",
    "\n",
    "    try:\n",
    "        files = dbx.files_list_folder(path).entries\n",
    "        files_list = []\n",
    "        for file in files:\n",
    "            if isinstance(file, dropbox.files.FileMetadata):\n",
    "                metadata = {\n",
    "                    'name': file.name,\n",
    "                    'path_display': file.path_display,\n",
    "                    'client_modified': file.client_modified,\n",
    "                    'server_modified': file.server_modified\n",
    "                }\n",
    "                files_list.append(metadata)\n",
    "\n",
    "        df = pd.DataFrame.from_records(files_list)\n",
    "        return df.sort_values(by='server_modified', ascending=False)\n",
    "\n",
    "    except Exception as e:\n",
    "        print('Error getting list of files from Dropbox: ' + str(e))\n",
    "        \n",
    "\n",
    "log_files = dropbox_list_files(path_log)\n",
    "config_files = dropbox_list_files(path_config)\n",
    "\n",
    "def dropbox_download_file(dropbox_file_path, local_file_path):\n",
    "    \"\"\"Download a file from Dropbox to the local machine.\"\"\"\n",
    "\n",
    "    try:\n",
    "        dbx = dropbox_connect()\n",
    "\n",
    "        with open(local_file_path, 'wb') as f:\n",
    "            metadata, result = dbx.files_download(path=dropbox_file_path)\n",
    "            f.write(result.content)\n",
    "    except Exception as e:\n",
    "        print('Error downloading file from Dropbox: ' + str(e))\n",
    "\n",
    "dropbox_download_file(log_files.path_display[1], str(os.getcwd())+'/test.csv')"
   ]
  },
  {
   "cell_type": "code",
   "execution_count": 2,
   "metadata": {},
   "outputs": [],
   "source": [
    "def load2(b=None):\n",
    "    use_config = top_pane_dict['buttons'][0].value\n",
    "    log_path = top_pane_dict['file_choosers'][0].selected\n",
    "    config_path = top_pane_dict['file_choosers'][1].selected\n",
    "    \n",
    "    try:\n",
    "        log, var_dict, startDict, raceIndex, marksDict, raceEvents, eventLog, selector_dict_day = functions.load_and_process(log_path,config_path,use_config)\n",
    "        load2.log = log\n",
    "        load2.var_dict = var_dict\n",
    "        load2.startDict = startDict\n",
    "        load2.raceIndex = raceIndex\n",
    "        load2.marksDict = marksDict\n",
    "        load2.raceEvents = raceEvents\n",
    "        load2.eventLog = eventLog\n",
    "        load2.selector_dict_day = selector_dict_day\n",
    "        plots = functions.plot_race(startDict, raceEvents, log, marksDict, raceIndex) # create plots for each race\n",
    "        plot_tab = functions.build_plot_tabs(plots)\n",
    "        mid_pane = widgets.VBox([plot_tab,selector_dict_day['formatted']])\n",
    "        load2.mid_pane = mid_pane\n",
    "        \n",
    "    except:\n",
    "        load2.mid_pane = widgets.Label(\"Error Loading Files\")\n",
    "    \n",
    "\n"
   ]
  },
  {
   "cell_type": "code",
   "execution_count": 3,
   "metadata": {},
   "outputs": [
    {
     "data": {
      "application/vnd.jupyter.widget-view+json": {
       "model_id": "60b721e785a34359937dc14a2497bf2b",
       "version_major": 2,
       "version_minor": 0
      },
      "text/plain": [
       "VBox(children=(HBox(children=(FileChooser(path='/home/veering/Documents/Git/eventField_webapp', filename='', t…"
      ]
     },
     "metadata": {},
     "output_type": "display_data"
    }
   ],
   "source": [
    "top_pane_dict = functions.build_top_pane()\n",
    "display(top_pane_dict['formatted'][0])"
   ]
  },
  {
   "cell_type": "code",
   "execution_count": 4,
   "metadata": {},
   "outputs": [
    {
     "data": {
      "application/vnd.jupyter.widget-view+json": {
       "model_id": "5a76fe7828e04389b0ae2b7ec288a37f",
       "version_major": 2,
       "version_minor": 0
      },
      "text/plain": [
       "Button(description='Load and Process Files', style=ButtonStyle())"
      ]
     },
     "metadata": {},
     "output_type": "display_data"
    },
    {
     "data": {
      "application/vnd.jupyter.widget-view+json": {
       "model_id": "7325ab380061463c9c2b1ffac36a53a9",
       "version_major": 2,
       "version_minor": 0
      },
      "text/plain": [
       "Output()"
      ]
     },
     "metadata": {},
     "output_type": "display_data"
    }
   ],
   "source": [
    "load_button = widgets.Button(description='Load and Process Files')\n",
    "mid_pane_output = widgets.Output()\n",
    "\n",
    "    \n",
    "@mid_pane_output.capture()\n",
    "def load(change):\n",
    "    load2()\n",
    "    mid_pane_output.clear_output()\n",
    "    with mid_pane_output:\n",
    "        display(load2.mid_pane)\n",
    "    \n",
    "    \n",
    "load_button.on_click(load)\n",
    "display(load_button)\n",
    "mid_pane_output"
   ]
  },
  {
   "cell_type": "code",
   "execution_count": 11,
   "metadata": {
    "pycharm": {
     "name": "#%%\n"
    }
   },
   "outputs": [],
   "source": [
    "def export2(b=None):\n",
    "    try:\n",
    "        selector_dict_day = load2.selector_dict_day\n",
    "        raceEvents = load2.raceEvents \n",
    "        startDict = load2.startDict \n",
    "        log = load2.log\n",
    "        filePath_export = top_pane_dict['file_choosers'][0].selected_path\n",
    "        date_fileName = str(load2.log.TimeStamp.dropna()[1].date())\n",
    "        fileName_export = \"eventField_\"+date_fileName\n",
    "        events = functions.export_to_xml_worker(selector_dict_day, raceEvents, startDict, log, filePath_export, fileName_export)\n",
    "        export2.events = events\n",
    "        \n",
    "    \n",
    "    except:\n",
    "        print(\"Failed to export XML file\")\n"
   ]
  },
  {
   "cell_type": "code",
   "execution_count": 12,
   "metadata": {},
   "outputs": [
    {
     "data": {
      "application/vnd.jupyter.widget-view+json": {
       "model_id": "c89e919f3485498b9884e7717b04fd89",
       "version_major": 2,
       "version_minor": 0
      },
      "text/plain": [
       "Button(description='Export Events as XML', style=ButtonStyle())"
      ]
     },
     "metadata": {},
     "output_type": "display_data"
    },
    {
     "name": "stdout",
     "output_type": "stream",
     "text": [
      "Event File exported as eventField_2022-05-20\n",
      "[['2022-05-20', '12:17:01', 'ManualEntry', 'Jib_batten_1=NotSet;Jib_batten_2=NotSet;Main_batten=NotSet;Forestay=0;V1=0;D1=0;D2=0;mastButt=0;=0.0'], ['2022-05-20', '12:19:01', 'SailsUp', 'MN-1;J1.5-1;;'], ['2022-05-20', '12:25:01', 'RaceStartGun', 1], ['2022-05-20', '12:38:23', 'RaceMark', 1], ['2022-05-20', '12:38:23', 'SailsUp', 'MN-1;;J1.5-1;A1.5-1'], ['2022-05-20', '12:49:42', 'RaceMark', 2], ['2022-05-20', '12:49:42', 'SailsUp', 'MN-1;J1.5-1;;'], ['2022-05-20', '13:02:37', 'RaceMark', 3], ['2022-05-20', '13:02:37', 'SailsUp', 'MN-1;;J1.5-1;A1.5-1'], ['2022-05-20', '13:11:09', 'RaceFinish', 1], ['2022-05-20', '13:11:09', 'SailsUp', 'MN-1;;;'], ['2022-05-20', '13:38:00', 'ManualEntry', 'Jib_batten_1=NotSet;Jib_batten_2=NotSet;Main_batten=NotSet;Forestay=0;V1=0;D1=0;D2=0;mastButt=0;=0.0'], ['2022-05-20', '13:40:00', 'SailsUp', 'MN-1;J1.5-1;;'], ['2022-05-20', '13:46:00', 'RaceStartGun', 2], ['2022-05-20', '14:02:17', 'RaceMark', 1], ['2022-05-20', '14:02:17', 'SailsUp', 'MN-1;;J1.5-1;A1.5-1'], ['2022-05-20', '14:12:15', 'RaceMark', 2], ['2022-05-20', '14:12:15', 'SailsUp', 'MN-1;J1.5-1;;'], ['2022-05-20', '14:27:37', 'RaceMark', 3], ['2022-05-20', '14:27:37', 'SailsUp', 'MN-1;;J1.5-1;A1.5-1'], ['2022-05-20', '14:36:26', 'RaceFinish', 2], ['2022-05-20', '14:36:26', 'SailsUp', 'MN-1;;;'], ['2022-05-20', '14:52:00', 'ManualEntry', 'Jib_batten_1=NotSet;Jib_batten_2=NotSet;Main_batten=NotSet;Forestay=0;V1=0;D1=0;D2=0;mastButt=0;=0.0'], ['2022-05-20', '14:54:00', 'SailsUp', 'MN-1;J1.5-1;;'], ['2022-05-20', '15:00:00', 'RaceStartGun', 3], ['2022-05-20', '15:14:06', 'RaceMark', 1], ['2022-05-20', '15:14:06', 'SailsUp', 'MN-1;;J1.5-1;A1.5-1'], ['2022-05-20', '15:23:41', 'RaceMark', 2], ['2022-05-20', '15:23:41', 'SailsUp', 'MN-1;J1.5-1;;'], ['2022-05-20', '15:37:45', 'RaceMark', 3], ['2022-05-20', '15:37:45', 'SailsUp', 'MN-1;;J1.5-1;A1.5-1'], ['2022-05-20', '15:49:37', 'RaceMark', 4], ['2022-05-20', '15:49:37', 'SailsUp', 'MN-1;J1.5-1;;'], ['2022-05-20', '16:35:35', 'RaceFinish', 3], ['2022-05-20', '16:35:35', 'SailsUp', 'MN-1;;;']]\n"
     ]
    }
   ],
   "source": [
    "export_button = widgets.Button(description='Export Events as XML')\n",
    "bottom_pane_output = widgets.Output()\n",
    "   \n",
    "export_button.on_click(export2)\n",
    "display(export_button)\n",
    "\n"
   ]
  }
 ],
 "metadata": {
  "kernelspec": {
   "display_name": "Python 3 (ipykernel)",
   "language": "python",
   "name": "python3"
  },
  "language_info": {
   "codemirror_mode": {
    "name": "ipython",
    "version": 3
   },
   "file_extension": ".py",
   "mimetype": "text/x-python",
   "name": "python",
   "nbconvert_exporter": "python",
   "pygments_lexer": "ipython3",
   "version": "3.10.9"
  }
 },
 "nbformat": 4,
 "nbformat_minor": 1
}
